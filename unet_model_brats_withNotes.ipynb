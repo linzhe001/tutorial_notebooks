{
  "cells": [
    {
      "cell_type": "markdown",
      "metadata": {
        "id": "view-in-github",
        "colab_type": "text"
      },
      "source": [
        "<a href=\"https://colab.research.google.com/github/linzhe001/tutorial_notebooks/blob/Notes/unet_model_brats_withNotes.ipynb\" target=\"_parent\"><img src=\"https://colab.research.google.com/assets/colab-badge.svg\" alt=\"Open In Colab\"/></a>"
      ]
    },
    {
      "cell_type": "markdown",
      "metadata": {
        "id": "6XRxHiKdGHiT"
      },
      "source": [
        "# Medical Image Segmentation with U-NET\n"
      ]
    },
    {
      "cell_type": "code",
      "execution_count": null,
      "metadata": {
        "id": "Eq1KWmR3HWYV"
      },
      "outputs": [],
      "source": [
        "# Import libraries\n",
        "import tarfile\n",
        "import re\n",
        "import imageio.v2 as iio\n",
        "import torch\n",
        "import torch.nn as nn\n",
        "import torch.nn.functional as F\n",
        "import torch.optim as optim\n",
        "from torch.utils.data import Dataset\n",
        "import numpy as np\n",
        "import time\n",
        "import os\n",
        "import random\n",
        "import matplotlib.pyplot as plt\n",
        "from matplotlib import colors\n",
        "import scipy.ndimage\n",
        "import textwrap"
      ]
    },
    {
      "cell_type": "markdown",
      "metadata": {
        "id": "w4TX-CXBHW4c"
      },
      "source": [
        "## Download the imaging dataset\n"
      ]
    },
    {
      "cell_type": "code",
      "execution_count": null,
      "metadata": {
        "colab": {
          "base_uri": "https://localhost:8080/"
        },
        "id": "mt93oQ8xZkE9",
        "outputId": "e0f1e061-ee30-4177-fe4f-f760d20e306b"
      },
      "outputs": [
        {
          "output_type": "stream",
          "name": "stdout",
          "text": [
            "Downloading...\n",
            "From: https://drive.google.com/uc?id=1nHZWlCBpudbT4zzPyqyu2Vi5uILcxSrv\n",
            "To: /content/Slices.zip\n",
            "100% 56.1M/56.1M [00:00<00:00, 83.4MB/s]\n"
          ]
        }
      ],
      "source": [
        "!gdown https://drive.google.com/uc?id=1nHZWlCBpudbT4zzPyqyu2Vi5uILcxSrv\n",
        "\n",
        "# Assuming the downloaded file is a ZIP file and its name is 'downloaded_data.zip'\n",
        "import zipfile\n",
        "with zipfile.ZipFile('Slices.zip', 'r') as zip_ref:\n",
        "    zip_ref.extractall()\n"
      ]
    },
    {
      "cell_type": "markdown",
      "metadata": {
        "id": "5xWGT3KaML-D"
      },
      "source": [
        "# Implement a dataset class\n",
        "\n",
        "It can read the imaging dataset and get items, pairs of images and label maps, as training batches."
      ]
    },
    {
      "cell_type": "code",
      "source": [
        "from torch.utils.data import Dataset, DataLoader\n",
        "from glob import glob\n",
        "import imageio.v2 as iio\n",
        "import matplotlib.pyplot as plt\n",
        "from glob import glob\n",
        "import numpy as np\n",
        "\n",
        "def normalise_intensity(image, ROI_thres=0.1):\n",
        "    pixel_thres = np.percentile(image, ROI_thres)\n",
        "    ROI = np.where(image > pixel_thres, image, 0) # If image value is greater than pixel threshold, return image value, otherwise return 0\n",
        "    mean = np.mean(ROI)\n",
        "    std = np.std(ROI)\n",
        "    ROI_norm = (ROI - mean) / (std + 1e-8) # Normalise ROI\n",
        "    return ROI_norm\n",
        "\n",
        "def map_labels(label):\n",
        "    label_map = {0: 0, 85: 1, 170: 2, 255: 3}\n",
        "    mapped_label = label.copy()\n",
        "    for k, v in label_map.items():\n",
        "        mapped_label[label == k] = v\n",
        "    return mapped_label\n",
        "\n",
        "class BratsDataset(Dataset): #dataset example without inherent\n",
        "    def __init__(self, root='brats_train'):\n",
        "        self.img_path_all = glob(root + '/BraTS-GLI-t1c/*.png')\n",
        "        self.mask_path_all = [img_path.replace('t1c', 'seg') for img_path in self.img_path_all]\n",
        "\n",
        "    def __len__(self):\n",
        "      return len(self.img_path_all) #get the sample number of this datasets\n",
        "\n",
        "    def __getitem__(self, index):\n",
        "        image = iio.imread(self.img_path_all[index])\n",
        "        image = normalise_intensity(image)\n",
        "        label = iio.imread(self.mask_path_all[index])\n",
        "        label = map_labels(label)\n",
        "        return image, label\n",
        "\n",
        "train_dataset = BratsDataset(root='Slices/Train')\n",
        "test_dataset = BratsDataset(root='Slices/Test')\n",
        "print('Train Sample:', len(train_dataset), 'Test Sample:', len(test_dataset))\n",
        "input, label = test_dataset[3]\n",
        "plt.subplot(1,2,1), plt.axis('OFF'), plt.title('input:{}'.format(input.shape)), plt.imshow(input, cmap='gray')\n",
        "plt.subplot(1,2,2), plt.axis('OFF'), plt.title('label:{}'.format(label.shape)), plt.imshow(label, cmap='gray');"
      ],
      "metadata": {
        "colab": {
          "base_uri": "https://localhost:8080/",
          "height": 301
        },
        "id": "ntQ8eO6iJlSz",
        "outputId": "55d32e59-2c4d-476c-b5ea-ded5e5c526e4"
      },
      "execution_count": null,
      "outputs": [
        {
          "output_type": "stream",
          "name": "stdout",
          "text": [
            "Train Sample: 1395 Test Sample: 310\n"
          ]
        },
        {
          "output_type": "display_data",
          "data": {
            "text/plain": [
              "<Figure size 640x480 with 2 Axes>"
            ],
            "image/png": "[encoded data removed]"
          },
          "metadata": {}
        }
      ]
    },
    {
      "cell_type": "markdown",
      "metadata": {
        "id": "pa4ZpawDNmwu"
      },
      "source": [
        "# Build a U-net architecture\n",
        "\n",
        "You will implement a U-net architecture. If you are not familiar with U-net, please read this paper:\n",
        "\n",
        "[1] Olaf Ronneberger et al. [U-Net: Convolutional networks for biomedical image segmentation](https://link.springer.com/chapter/10.1007/978-3-319-24574-4_28). MICCAI, 2015.\n"
      ]
    },
    {
      "cell_type": "code",
      "execution_count": null,
      "metadata": {
        "id": "SOcyhyR7Cd6u"
      },
      "outputs": [],
      "source": [
        "class conv_block(nn.Module):\n",
        "  def __init__(self, in_channels, out_channels, stride=1):\n",
        "    super().__init__()\n",
        "    # Convolution layer, a ReLU activation to add non-linearity, and Batch Normalisation\n",
        "    # Bias is set as false, as Batch Normalisation would remove the bias\n",
        "    self.conv = nn.Sequential(\n",
        "        nn.Conv2d(in_channels, out_channels, kernel_size=3, stride=stride, padding=1),\n",
        "        nn.BatchNorm2d(out_channels),\n",
        "        nn.ReLU()\n",
        "    )\n",
        "  def forward(self, x):\n",
        "    return self.conv(x)\n",
        "\n",
        "class UNet(nn.Module):\n",
        "  # U-Net Model involves an encoder, a bottleneck and decoder section\n",
        "  def __init__(self, num_classes=4):\n",
        "    super().__init__()\n",
        "    # Encoder with 4 blocks of Double_Convolution layers\n",
        "    # Includes 4 sets of max pooling operations with kernel 2x2 and stride 2 for downsampling\n",
        "    self.down_1 = nn.Sequential(\n",
        "        conv_block(1, 16),\n",
        "        conv_block(16, 16),\n",
        "    )\n",
        "    self.down_2 = nn.Sequential(\n",
        "        conv_block(16, 32, 2),\n",
        "        conv_block(32, 32),\n",
        "    )\n",
        "    self.down_3 = nn.Sequential(\n",
        "        conv_block(32, 64, 2),\n",
        "        conv_block(64, 64),\n",
        "    )\n",
        "    # Bottleneck\n",
        "    # Includes a Double Convolution layer followed by upsampling with ConvTranspose2d\n",
        "    self.bottle = nn.Sequential(\n",
        "        conv_block(64, 128, 2),\n",
        "        conv_block(128, 128),\n",
        "        nn.ConvTranspose2d(128, 64, kernel_size=3, stride=2, padding=1, output_padding=1)\n",
        "    )\n",
        "\n",
        "    # Decoder\n",
        "    # Concatinating with skip connections causes feature channels to double\n",
        "    # Double_Convolution and ConvTranspose2d each causes feature channels to halve\n",
        "    self.up_1 = nn.Sequential(\n",
        "        conv_block(128, 64),\n",
        "        conv_block(64, 64),\n",
        "        nn.ConvTranspose2d(64, 32, kernel_size=3, stride=2, padding=1, output_padding=1)\n",
        "    )\n",
        "    self.up_2 = nn.Sequential(\n",
        "        conv_block(64, 32),\n",
        "        conv_block(32, 32),\n",
        "        nn.ConvTranspose2d(32, 16, kernel_size=3, stride=2, padding=1, output_padding=1)\n",
        "    )\n",
        "    # Final Output Layer\n",
        "    self.out = nn.Sequential(\n",
        "        conv_block(32, 16),\n",
        "        conv_block(16, 16),\n",
        "        nn.Conv2d(16, 4, kernel_size=1, padding=0)\n",
        "    )\n",
        "\n",
        "  def forward(self, x):\n",
        "      # Use the convolutional operators defined above to build the U-net\n",
        "      # Encoder\n",
        "      x1 = self.down_1(x)\n",
        "      x2 = self.down_2(x1)\n",
        "      x3 = self.down_3(x2)\n",
        "\n",
        "      x4 = self.bottle(x3)\n",
        "\n",
        "      # Decoder\n",
        "      ### Insert your code ###\n",
        "      x5 = torch.cat((x4, x3), dim=1)\n",
        "      x6 = self.up_1(x5)\n",
        "      x7 = torch.cat((x6, x2), dim=1)\n",
        "      x8 = self.up_2(x7)\n",
        "      x9 = torch.cat((x8, x1), dim=1)\n",
        "      x10 = self.out(x9)\n",
        "      return x10\n"
      ]
    },
    {
      "cell_type": "code",
      "source": [
        "import os\n",
        "import torch\n",
        "import torch.optim as optim\n",
        "import torch.nn as nn\n",
        "\n",
        "def train_per_epoch(model, trainloader, loss_fn, optimizer):\n",
        "    model.train()\n",
        "    loss_per_epoch = []\n",
        "    for batch_idx, (images, labels) in enumerate(trainloader):\n",
        "        images, labels = images.unsqueeze(1).to(device, dtype=torch.float32), labels.to(device, dtype=torch.long)\n",
        "        logits = model(images)\n",
        "        optimizer.zero_grad() # Clear previous gradients\n",
        "        loss = loss_fn(logits, labels) # Compute loss\n",
        "        loss.backward() # Carry out backpropagation and calculate gradients\n",
        "        optimizer.step() # Update model parameters\n",
        "        loss_per_epoch.append(loss.item())\n",
        "\n",
        "    return torch.tensor(loss_per_epoch).mean().item()\n",
        "\n",
        "def test_per_epoch(model, testloader, loss_fn, optimizer):\n",
        "    model.eval()\n",
        "    loss_per_epoch = []\n",
        "    with torch.no_grad():  # Disabling gradient calculation during reference to reduce memory consumption\n",
        "        for batch_idx, (images, labels) in enumerate(testloader):\n",
        "            images, labels = images.unsqueeze(1).to(device, dtype=torch.float32), labels.to(device, dtype=torch.long)\n",
        "            logits = model(images)\n",
        "            loss = loss_fn(logits, labels)\n",
        "            loss_per_epoch.append(loss.item())\n",
        "\n",
        "    return torch.tensor(loss_per_epoch).mean().item()\n",
        "\n",
        "device = 'cuda' if torch.cuda.is_available() else 'cpu'\n",
        "num_classes=4\n",
        "model = UNet(num_classes=num_classes)\n",
        "model = model.to(device)\n",
        "\n",
        "epochs = 120\n",
        "train_batch_size = 25\n",
        "eval_batch_size = 300\n",
        "\n",
        "\n",
        "train_dataset = BratsDataset(root='Slices/Train')\n",
        "test_dataset = BratsDataset(root='Slices/Test')\n",
        "\n",
        "model_dir = 'saved_models'\n",
        "os.makedirs(model_dir, exist_ok = True)\n",
        "optimizer = optim.Adam(model.parameters(), lr=1e-3)\n",
        "loss_fn = nn.CrossEntropyLoss(ignore_index=128)\n",
        "\n",
        "train_loader = DataLoader(train_dataset, batch_size=train_batch_size, shuffle=True, num_workers=2)\n",
        "test_loader = DataLoader(test_dataset, batch_size=eval_batch_size, shuffle=False, num_workers=2)\n",
        "print('Training on:', device, 'train sample size:', len(train_dataset), 'test sample size:', len(test_dataset))\n",
        "\n",
        "best_epoch, best_loss = 0.0, np.inf\n",
        "for epoch in range(epochs):\n",
        "\n",
        "    loss_training = train_per_epoch(model, train_loader, loss_fn, optimizer)\n",
        "    loss_testing = test_per_epoch(model, test_loader, loss_fn, optimizer)\n",
        "\n",
        "    # Save the best model\n",
        "    if loss_testing < best_loss:\n",
        "        best_loss = loss_testing\n",
        "        best_epoch = epoch\n",
        "        torch.save(model.state_dict(), os.path.join(model_dir, 'model_best.pt'))\n",
        "\n",
        "\n",
        "    print('--- Epoch {}\\{}: Training loss = {:.4f}, Testing loss = {:.4f}, Best loss = {:.4f}, Best epoch = {} '.\\\n",
        "            format(epoch, epochs, loss_training, loss_testing, best_loss, best_epoch))"
      ],
      "metadata": {
        "colab": {
          "base_uri": "https://localhost:8080/"
        },
        "id": "SURlc6IAX4KB",
        "outputId": "50c79477-c00c-41a4-b77e-fb57b22aae5b"
      },
      "execution_count": null,
      "outputs": [
        {
          "output_type": "stream",
          "name": "stdout",
          "text": [
            "Training on: cuda train sample size: 1395 test sample size: 310\n",
            "--- Epoch 0\\120: Training loss = 1.0080, Testing loss = 0.8056, Best loss = 0.8056, Best epoch = 0 \n",
            "--- Epoch 1\\120: Training loss = 0.6020, Testing loss = 0.4982, Best loss = 0.4982, Best epoch = 1 \n",
            "--- Epoch 2\\120: Training loss = 0.3469, Testing loss = 0.2988, Best loss = 0.2988, Best epoch = 2 \n",
            "--- Epoch 3\\120: Training loss = 0.2042, Testing loss = 0.1915, Best loss = 0.1915, Best epoch = 3 \n",
            "--- Epoch 4\\120: Training loss = 0.1314, Testing loss = 0.1328, Best loss = 0.1328, Best epoch = 4 \n",
            "--- Epoch 5\\120: Training loss = 0.0970, Testing loss = 0.1076, Best loss = 0.1076, Best epoch = 5 \n",
            "--- Epoch 6\\120: Training loss = 0.0758, Testing loss = 0.0955, Best loss = 0.0955, Best epoch = 6 \n",
            "--- Epoch 7\\120: Training loss = 0.0630, Testing loss = 0.0833, Best loss = 0.0833, Best epoch = 7 \n",
            "--- Epoch 8\\120: Training loss = 0.0543, Testing loss = 0.0832, Best loss = 0.0832, Best epoch = 8 \n",
            "--- Epoch 9\\120: Training loss = 0.0487, Testing loss = 0.0785, Best loss = 0.0785, Best epoch = 9 \n",
            "--- Epoch 10\\120: Training loss = 0.0436, Testing loss = 0.0640, Best loss = 0.0640, Best epoch = 10 \n",
            "--- Epoch 11\\120: Training loss = 0.0389, Testing loss = 0.0693, Best loss = 0.0640, Best epoch = 10 \n",
            "--- Epoch 12\\120: Training loss = 0.0346, Testing loss = 0.0597, Best loss = 0.0597, Best epoch = 12 \n",
            "--- Epoch 13\\120: Training loss = 0.0315, Testing loss = 0.0602, Best loss = 0.0597, Best epoch = 12 \n",
            "--- Epoch 14\\120: Training loss = 0.0297, Testing loss = 0.0564, Best loss = 0.0564, Best epoch = 14 \n",
            "--- Epoch 15\\120: Training loss = 0.0278, Testing loss = 0.0498, Best loss = 0.0498, Best epoch = 15 \n",
            "--- Epoch 16\\120: Training loss = 0.0267, Testing loss = 0.0546, Best loss = 0.0498, Best epoch = 15 \n",
            "--- Epoch 17\\120: Training loss = 0.0256, Testing loss = 0.0597, Best loss = 0.0498, Best epoch = 15 \n",
            "--- Epoch 18\\120: Training loss = 0.0233, Testing loss = 0.0492, Best loss = 0.0492, Best epoch = 18 \n",
            "--- Epoch 19\\120: Training loss = 0.0224, Testing loss = 0.0517, Best loss = 0.0492, Best epoch = 18 \n",
            "--- Epoch 20\\120: Training loss = 0.0222, Testing loss = 0.0441, Best loss = 0.0441, Best epoch = 20 \n",
            "--- Epoch 21\\120: Training loss = 0.0205, Testing loss = 0.0619, Best loss = 0.0441, Best epoch = 20 \n",
            "--- Epoch 22\\120: Training loss = 0.0184, Testing loss = 0.0511, Best loss = 0.0441, Best epoch = 20 \n",
            "--- Epoch 23\\120: Training loss = 0.0171, Testing loss = 0.0641, Best loss = 0.0441, Best epoch = 20 \n",
            "--- Epoch 24\\120: Training loss = 0.0159, Testing loss = 0.0548, Best loss = 0.0441, Best epoch = 20 \n",
            "--- Epoch 25\\120: Training loss = 0.0158, Testing loss = 0.0595, Best loss = 0.0441, Best epoch = 20 \n",
            "--- Epoch 26\\120: Training loss = 0.0145, Testing loss = 0.0585, Best loss = 0.0441, Best epoch = 20 \n",
            "--- Epoch 27\\120: Training loss = 0.0132, Testing loss = 0.0621, Best loss = 0.0441, Best epoch = 20 \n",
            "--- Epoch 28\\120: Training loss = 0.0132, Testing loss = 0.0593, Best loss = 0.0441, Best epoch = 20 \n",
            "--- Epoch 29\\120: Training loss = 0.0140, Testing loss = 0.0567, Best loss = 0.0441, Best epoch = 20 \n",
            "--- Epoch 30\\120: Training loss = 0.0120, Testing loss = 0.0571, Best loss = 0.0441, Best epoch = 20 \n",
            "--- Epoch 31\\120: Training loss = 0.0111, Testing loss = 0.0577, Best loss = 0.0441, Best epoch = 20 \n",
            "--- Epoch 32\\120: Training loss = 0.0104, Testing loss = 0.0586, Best loss = 0.0441, Best epoch = 20 \n",
            "--- Epoch 33\\120: Training loss = 0.0101, Testing loss = 0.0747, Best loss = 0.0441, Best epoch = 20 \n",
            "--- Epoch 34\\120: Training loss = 0.0098, Testing loss = 0.0739, Best loss = 0.0441, Best epoch = 20 \n",
            "--- Epoch 35\\120: Training loss = 0.0093, Testing loss = 0.0644, Best loss = 0.0441, Best epoch = 20 \n",
            "--- Epoch 36\\120: Training loss = 0.0091, Testing loss = 0.0723, Best loss = 0.0441, Best epoch = 20 \n",
            "--- Epoch 37\\120: Training loss = 0.0086, Testing loss = 0.0606, Best loss = 0.0441, Best epoch = 20 \n",
            "--- Epoch 38\\120: Training loss = 0.0079, Testing loss = 0.0713, Best loss = 0.0441, Best epoch = 20 \n",
            "--- Epoch 39\\120: Training loss = 0.0080, Testing loss = 0.0608, Best loss = 0.0441, Best epoch = 20 \n",
            "--- Epoch 40\\120: Training loss = 0.0086, Testing loss = 0.0669, Best loss = 0.0441, Best epoch = 20 \n",
            "--- Epoch 41\\120: Training loss = 0.0076, Testing loss = 0.0692, Best loss = 0.0441, Best epoch = 20 \n",
            "--- Epoch 42\\120: Training loss = 0.0066, Testing loss = 0.0628, Best loss = 0.0441, Best epoch = 20 \n",
            "--- Epoch 43\\120: Training loss = 0.0066, Testing loss = 0.0708, Best loss = 0.0441, Best epoch = 20 \n",
            "--- Epoch 44\\120: Training loss = 0.0059, Testing loss = 0.0630, Best loss = 0.0441, Best epoch = 20 \n",
            "--- Epoch 45\\120: Training loss = 0.0063, Testing loss = 0.0656, Best loss = 0.0441, Best epoch = 20 \n",
            "--- Epoch 46\\120: Training loss = 0.0060, Testing loss = 0.0703, Best loss = 0.0441, Best epoch = 20 \n",
            "--- Epoch 47\\120: Training loss = 0.0058, Testing loss = 0.0720, Best loss = 0.0441, Best epoch = 20 \n",
            "--- Epoch 48\\120: Training loss = 0.0058, Testing loss = 0.0640, Best loss = 0.0441, Best epoch = 20 \n",
            "--- Epoch 49\\120: Training loss = 0.0055, Testing loss = 0.0684, Best loss = 0.0441, Best epoch = 20 \n",
            "--- Epoch 50\\120: Training loss = 0.0051, Testing loss = 0.0709, Best loss = 0.0441, Best epoch = 20 \n",
            "--- Epoch 51\\120: Training loss = 0.0047, Testing loss = 0.0790, Best loss = 0.0441, Best epoch = 20 \n",
            "--- Epoch 52\\120: Training loss = 0.0049, Testing loss = 0.0889, Best loss = 0.0441, Best epoch = 20 \n",
            "--- Epoch 53\\120: Training loss = 0.0048, Testing loss = 0.0834, Best loss = 0.0441, Best epoch = 20 \n",
            "--- Epoch 54\\120: Training loss = 0.0048, Testing loss = 0.0653, Best loss = 0.0441, Best epoch = 20 \n",
            "--- Epoch 55\\120: Training loss = 0.0046, Testing loss = 0.0795, Best loss = 0.0441, Best epoch = 20 \n",
            "--- Epoch 56\\120: Training loss = 0.0047, Testing loss = 0.0724, Best loss = 0.0441, Best epoch = 20 \n",
            "--- Epoch 57\\120: Training loss = 0.0042, Testing loss = 0.0807, Best loss = 0.0441, Best epoch = 20 \n",
            "--- Epoch 58\\120: Training loss = 0.0043, Testing loss = 0.0636, Best loss = 0.0441, Best epoch = 20 \n",
            "--- Epoch 59\\120: Training loss = 0.0047, Testing loss = 0.0821, Best loss = 0.0441, Best epoch = 20 \n",
            "--- Epoch 60\\120: Training loss = 0.0043, Testing loss = 0.0773, Best loss = 0.0441, Best epoch = 20 \n",
            "--- Epoch 61\\120: Training loss = 0.0040, Testing loss = 0.0670, Best loss = 0.0441, Best epoch = 20 \n",
            "--- Epoch 62\\120: Training loss = 0.0039, Testing loss = 0.0777, Best loss = 0.0441, Best epoch = 20 \n",
            "--- Epoch 63\\120: Training loss = 0.0040, Testing loss = 0.0843, Best loss = 0.0441, Best epoch = 20 \n",
            "--- Epoch 64\\120: Training loss = 0.0039, Testing loss = 0.0817, Best loss = 0.0441, Best epoch = 20 \n",
            "--- Epoch 65\\120: Training loss = 0.0037, Testing loss = 0.0661, Best loss = 0.0441, Best epoch = 20 \n",
            "--- Epoch 66\\120: Training loss = 0.0037, Testing loss = 0.0725, Best loss = 0.0441, Best epoch = 20 \n",
            "--- Epoch 67\\120: Training loss = 0.0038, Testing loss = 0.0972, Best loss = 0.0441, Best epoch = 20 \n",
            "--- Epoch 68\\120: Training loss = 0.0036, Testing loss = 0.0790, Best loss = 0.0441, Best epoch = 20 \n",
            "--- Epoch 69\\120: Training loss = 0.0031, Testing loss = 0.0799, Best loss = 0.0441, Best epoch = 20 \n",
            "--- Epoch 70\\120: Training loss = 0.0030, Testing loss = 0.0813, Best loss = 0.0441, Best epoch = 20 \n",
            "--- Epoch 71\\120: Training loss = 0.0033, Testing loss = 0.0799, Best loss = 0.0441, Best epoch = 20 \n",
            "--- Epoch 72\\120: Training loss = 0.0030, Testing loss = 0.0851, Best loss = 0.0441, Best epoch = 20 \n",
            "--- Epoch 73\\120: Training loss = 0.0034, Testing loss = 0.0962, Best loss = 0.0441, Best epoch = 20 \n",
            "--- Epoch 74\\120: Training loss = 0.0031, Testing loss = 0.0796, Best loss = 0.0441, Best epoch = 20 \n",
            "--- Epoch 75\\120: Training loss = 0.0029, Testing loss = 0.0747, Best loss = 0.0441, Best epoch = 20 \n",
            "--- Epoch 76\\120: Training loss = 0.0030, Testing loss = 0.0990, Best loss = 0.0441, Best epoch = 20 \n",
            "--- Epoch 77\\120: Training loss = 0.0034, Testing loss = 0.0740, Best loss = 0.0441, Best epoch = 20 \n",
            "--- Epoch 78\\120: Training loss = 0.0037, Testing loss = 0.0815, Best loss = 0.0441, Best epoch = 20 \n",
            "--- Epoch 79\\120: Training loss = 0.0031, Testing loss = 0.0843, Best loss = 0.0441, Best epoch = 20 \n",
            "--- Epoch 80\\120: Training loss = 0.0028, Testing loss = 0.0947, Best loss = 0.0441, Best epoch = 20 \n",
            "--- Epoch 81\\120: Training loss = 0.0026, Testing loss = 0.0848, Best loss = 0.0441, Best epoch = 20 \n",
            "--- Epoch 82\\120: Training loss = 0.0028, Testing loss = 0.0769, Best loss = 0.0441, Best epoch = 20 \n",
            "--- Epoch 83\\120: Training loss = 0.0026, Testing loss = 0.0826, Best loss = 0.0441, Best epoch = 20 \n",
            "--- Epoch 84\\120: Training loss = 0.0026, Testing loss = 0.0730, Best loss = 0.0441, Best epoch = 20 \n",
            "--- Epoch 85\\120: Training loss = 0.0025, Testing loss = 0.1034, Best loss = 0.0441, Best epoch = 20 \n",
            "--- Epoch 86\\120: Training loss = 0.0026, Testing loss = 0.0852, Best loss = 0.0441, Best epoch = 20 \n",
            "--- Epoch 87\\120: Training loss = 0.0031, Testing loss = 0.0815, Best loss = 0.0441, Best epoch = 20 \n",
            "--- Epoch 88\\120: Training loss = 0.0024, Testing loss = 0.0898, Best loss = 0.0441, Best epoch = 20 \n",
            "--- Epoch 89\\120: Training loss = 0.0023, Testing loss = 0.0770, Best loss = 0.0441, Best epoch = 20 \n",
            "--- Epoch 90\\120: Training loss = 0.0024, Testing loss = 0.0923, Best loss = 0.0441, Best epoch = 20 \n",
            "--- Epoch 91\\120: Training loss = 0.0022, Testing loss = 0.0879, Best loss = 0.0441, Best epoch = 20 \n",
            "--- Epoch 92\\120: Training loss = 0.0022, Testing loss = 0.0964, Best loss = 0.0441, Best epoch = 20 \n",
            "--- Epoch 93\\120: Training loss = 0.0021, Testing loss = 0.0858, Best loss = 0.0441, Best epoch = 20 \n",
            "--- Epoch 94\\120: Training loss = 0.0021, Testing loss = 0.0836, Best loss = 0.0441, Best epoch = 20 \n",
            "--- Epoch 95\\120: Training loss = 0.0018, Testing loss = 0.0868, Best loss = 0.0441, Best epoch = 20 \n",
            "--- Epoch 96\\120: Training loss = 0.0018, Testing loss = 0.1010, Best loss = 0.0441, Best epoch = 20 \n",
            "--- Epoch 97\\120: Training loss = 0.0020, Testing loss = 0.0961, Best loss = 0.0441, Best epoch = 20 \n",
            "--- Epoch 98\\120: Training loss = 0.0022, Testing loss = 0.0889, Best loss = 0.0441, Best epoch = 20 \n",
            "--- Epoch 99\\120: Training loss = 0.0019, Testing loss = 0.0948, Best loss = 0.0441, Best epoch = 20 \n",
            "--- Epoch 100\\120: Training loss = 0.0020, Testing loss = 0.0922, Best loss = 0.0441, Best epoch = 20 \n",
            "--- Epoch 101\\120: Training loss = 0.0020, Testing loss = 0.0932, Best loss = 0.0441, Best epoch = 20 \n",
            "--- Epoch 102\\120: Training loss = 0.0020, Testing loss = 0.0824, Best loss = 0.0441, Best epoch = 20 \n",
            "--- Epoch 103\\120: Training loss = 0.0020, Testing loss = 0.0874, Best loss = 0.0441, Best epoch = 20 \n",
            "--- Epoch 104\\120: Training loss = 0.0022, Testing loss = 0.0803, Best loss = 0.0441, Best epoch = 20 \n",
            "--- Epoch 105\\120: Training loss = 0.0019, Testing loss = 0.0963, Best loss = 0.0441, Best epoch = 20 \n",
            "--- Epoch 106\\120: Training loss = 0.0019, Testing loss = 0.1061, Best loss = 0.0441, Best epoch = 20 \n",
            "--- Epoch 107\\120: Training loss = 0.0017, Testing loss = 0.0851, Best loss = 0.0441, Best epoch = 20 \n",
            "--- Epoch 108\\120: Training loss = 0.0015, Testing loss = 0.0981, Best loss = 0.0441, Best epoch = 20 \n",
            "--- Epoch 109\\120: Training loss = 0.0015, Testing loss = 0.0952, Best loss = 0.0441, Best epoch = 20 \n",
            "--- Epoch 110\\120: Training loss = 0.0015, Testing loss = 0.1037, Best loss = 0.0441, Best epoch = 20 \n",
            "--- Epoch 111\\120: Training loss = 0.0015, Testing loss = 0.1010, Best loss = 0.0441, Best epoch = 20 \n",
            "--- Epoch 112\\120: Training loss = 0.0014, Testing loss = 0.0973, Best loss = 0.0441, Best epoch = 20 \n",
            "--- Epoch 113\\120: Training loss = 0.0015, Testing loss = 0.0963, Best loss = 0.0441, Best epoch = 20 \n",
            "--- Epoch 114\\120: Training loss = 0.0018, Testing loss = 0.0957, Best loss = 0.0441, Best epoch = 20 \n",
            "--- Epoch 115\\120: Training loss = 0.0021, Testing loss = 0.1022, Best loss = 0.0441, Best epoch = 20 \n",
            "--- Epoch 116\\120: Training loss = 0.0022, Testing loss = 0.0850, Best loss = 0.0441, Best epoch = 20 \n",
            "--- Epoch 117\\120: Training loss = 0.0020, Testing loss = 0.0880, Best loss = 0.0441, Best epoch = 20 \n",
            "--- Epoch 118\\120: Training loss = 0.0021, Testing loss = 0.0959, Best loss = 0.0441, Best epoch = 20 \n",
            "--- Epoch 119\\120: Training loss = 0.0019, Testing loss = 0.0894, Best loss = 0.0441, Best epoch = 20 \n"
          ]
        }
      ]
    },
    {
      "cell_type": "markdown",
      "source": [
        "Evaluation:"
      ],
      "metadata": {
        "id": "U-cdLImmHUJg"
      }
    },
    {
      "cell_type": "code",
      "source": [
        "from torchmetrics import Dice\n",
        "import matplotlib.pyplot as plt\n",
        "import numpy as np\n",
        "from torch.utils.data import DataLoader\n",
        "\n",
        "def calculate_confusion_matrix_from_arrays(prediction, ground_truth, nr_labels):\n",
        "    replace_indices = np.vstack((\n",
        "        ground_truth.flatten(),\n",
        "        prediction.flatten())\n",
        "    ).T\n",
        "    confusion_matrix, _ = np.histogramdd(\n",
        "        replace_indices,\n",
        "        bins=(nr_labels, nr_labels),\n",
        "        range=[(0, nr_labels), (0, nr_labels)]\n",
        "    )\n",
        "    confusion_matrix = confusion_matrix.astype(np.uint32)\n",
        "    return confusion_matrix\n",
        "\n",
        "def calculate_dice(confusion_matrix):\n",
        "    dices = []\n",
        "    for index in range(confusion_matrix.shape[0]):\n",
        "        true_positives = confusion_matrix[index, index]\n",
        "        false_positives = confusion_matrix[:, index].sum() - true_positives\n",
        "        false_negatives = confusion_matrix[index, :].sum() - true_positives\n",
        "        denom = 2 * true_positives + false_positives + false_negatives\n",
        "        if denom == 0:\n",
        "            dice = 0\n",
        "        else:\n",
        "            dice = 2 * float(true_positives) / denom\n",
        "        dices.append(dice)\n",
        "    return dices\n",
        "\n",
        "\n",
        "def test_per_epoch(model, testloader):\n",
        "    model.eval()\n",
        "    fig, axs = plt.subplots(len(testloader), 3, figsize=(1*3, len(testloader)*1), subplot_kw=dict(xticks=[],yticks=[]))\n",
        "    confusion_matrix = np.zeros((num_classes, num_classes), dtype=np.uint32)\n",
        "    class_wise_dice = []\n",
        "    with torch.no_grad():\n",
        "        for batch_idx, (images, labels) in enumerate(testloader):\n",
        "            images, labels = images.unsqueeze(1).to(device, dtype=torch.float32), labels.to(device, dtype=torch.long)\n",
        "            logits = model(images)\n",
        "            prob = F.softmax(logits, dim=1)\n",
        "            pred_seg = torch.argmax(prob, dim=1)\n",
        "            confusion_matrix += calculate_confusion_matrix_from_arrays(pred_seg.cpu(), labels.cpu(), num_classes)\n",
        "            img_num = 0\n",
        "            axs[batch_idx, 0].imshow(images[img_num, 0].cpu().numpy(), cmap='gray')\n",
        "            axs[batch_idx, 1].imshow(labels[img_num].cpu().numpy(), cmap='gray')\n",
        "            axs[batch_idx, 2].imshow(pred_seg[img_num].cpu().numpy(), cmap='gray')\n",
        "\n",
        "    confusion_matrix = confusion_matrix[1:, 1:]  # exclude background\n",
        "    dices_per_class = {'dice_cls:{}'.format(cls + 1): dice\n",
        "                for cls, dice in enumerate(calculate_dice(confusion_matrix))}\n",
        "\n",
        "    plt.axis('OFF')\n",
        "    plt.tight_layout()\n",
        "    plt.show()\n",
        "    return dices_per_class\n",
        "\n",
        "num_classes=4\n",
        "model = UNet(num_classes=num_classes).to(device)\n",
        "model.load_state_dict(torch.load('/content/saved_models/model_best.pt'))\n",
        "eval_batch_size = 80\n",
        "print('Test Sample:', len(test_dataset))\n",
        "test_loader = DataLoader(test_dataset, batch_size=eval_batch_size, shuffle=False, num_workers=2)\n",
        "dices_per_class = test_per_epoch(model, test_loader)\n",
        "dices_per_class_list = np.array(list(dices_per_class.values()))\n",
        "print('Class Wise Dice:', dices_per_class)\n",
        "print('Overall Dice:', np.mean(dices_per_class_list))"
      ],
      "metadata": {
        "colab": {
          "base_uri": "https://localhost:8080/",
          "height": 458
        },
        "id": "LPjsN9AUItMP",
        "outputId": "d21c6caf-51a6-409b-a844-22518b67343a"
      },
      "execution_count": null,
      "outputs": [
        {
          "output_type": "stream",
          "name": "stdout",
          "text": [
            "Test Sample: 310\n"
          ]
        },
        {
          "output_type": "display_data",
          "data": {
            "text/plain": [
              "<Figure size 300x400 with 12 Axes>"
            ],
            "image/png": "[encoded data removed]"
          },
          "metadata": {}
        },
        {
          "output_type": "stream",
          "name": "stdout",
          "text": [
            "Class Wise Dice: {'dice_cls:1': 0.5027507125339696, 'dice_cls:2': 0.7297378627791895, 'dice_cls:3': 0.8159257873279105}\n",
            "Overall Dice: 0.6828047875470232\n"
          ]
        }
      ]
    },
    {
      "cell_type": "code",
      "source": [],
      "metadata": {
        "id": "KMaWFQiCL2Ol"
      },
      "execution_count": null,
      "outputs": []
    }
  ],
  "metadata": {
    "accelerator": "GPU",
    "colab": {
      "provenance": [],
      "gpuType": "T4",
      "machine_shape": "hm",
      "include_colab_link": true
    },
    "kernelspec": {
      "display_name": "Python 3",
      "name": "python3"
    },
    "language_info": {
      "name": "python"
    }
  },
  "nbformat": 4,
  "nbformat_minor": 0
}