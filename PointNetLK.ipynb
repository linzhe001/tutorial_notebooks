{
  "nbformat": 4,
  "nbformat_minor": 0,
  "metadata": {
    "colab": {
      "provenance": [],
      "gpuType": "T4",
      "authorship_tag": "ABX9TyOr6v/8jbu2J9SaXaPY5298",
      "include_colab_link": true
    },
    "kernelspec": {
      "name": "python3",
      "display_name": "Python 3"
    },
    "language_info": {
      "name": "python"
    },
    "accelerator": "GPU"
  },
  "cells": [
    {
      "cell_type": "markdown",
      "metadata": {
        "id": "view-in-github",
        "colab_type": "text"
      },
      "source": [
        "<a href=\"https://colab.research.google.com/github/linzhe001/tutorial_notebooks/blob/Notes/PointNetLK.ipynb\" target=\"_parent\"><img src=\"https://colab.research.google.com/assets/colab-badge.svg\" alt=\"Open In Colab\"/></a>"
      ]
    },
    {
      "cell_type": "code",
      "execution_count": 1,
      "metadata": {
        "colab": {
          "base_uri": "https://localhost:8080/"
        },
        "id": "FPzm1lCdR3Pk",
        "outputId": "b859d440-e2f1-4a67-ad74-6b7decde0f56"
      },
      "outputs": [
        {
          "output_type": "stream",
          "name": "stdout",
          "text": [
            "Mounted at /content/gdrive\n"
          ]
        }
      ],
      "source": [
        "from google.colab import drive\n",
        "drive.mount('/content/gdrive')"
      ]
    },
    {
      "cell_type": "code",
      "source": [
        "!pip install open3d &> /dev/null\n",
        "!pip install tensorboardX &> /dev/null\n",
        "!pip install matplotlib &> /dev/null"
      ],
      "metadata": {
        "collapsed": true,
        "id": "9sv9dI3rR_IK"
      },
      "execution_count": 2,
      "outputs": []
    },
    {
      "cell_type": "code",
      "source": [
        "!git clone https://github.com/linzhe001/PointNetLK.git\n",
        "%cd ./PointNetLK\n",
        "!git switch PointNetLK_colab"
      ],
      "metadata": {
        "colab": {
          "base_uri": "https://localhost:8080/"
        },
        "id": "QMiIIpwVR4il",
        "outputId": "712251cc-b36a-4755-81b3-b1ef18e02aa1"
      },
      "execution_count": 4,
      "outputs": [
        {
          "output_type": "stream",
          "name": "stdout",
          "text": [
            "fatal: destination path 'PointNetLK' already exists and is not an empty directory.\n",
            "/content/PointNetLK\n",
            "Branch 'PointNetLK_colab' set up to track remote branch 'PointNetLK_colab' from 'origin'.\n",
            "Switched to a new branch 'PointNetLK_colab'\n"
          ]
        }
      ]
    },
    {
      "cell_type": "code",
      "source": [
        "!cp /content/gdrive/MyDrive/datasets/ModelNet40.zip ./ &> /dev/null\n",
        "!unzip ./ModelNet40.zip -d ./ &> /dev/null"
      ],
      "metadata": {
        "collapsed": true,
        "id": "NSrqK4LOR58i"
      },
      "execution_count": 5,
      "outputs": []
    },
    {
      "cell_type": "code",
      "source": [
        "# before it change the 'o3d.visualization.draw_geometries' function to 'o3d.visualization.draw_plotly'\n",
        "!python main.py"
      ],
      "metadata": {
        "colab": {
          "base_uri": "https://localhost:8080/"
        },
        "id": "pUcsbWlKSEZq",
        "outputId": "c402912c-aeea-489c-aea8-a09e857cf84a"
      },
      "execution_count": 13,
      "outputs": [
        {
          "output_type": "stream",
          "name": "stdout",
          "text": [
            "Namespace(exp_name='exp', dataset_path='ModelNet40', categoryfile='./sampledata/modelnet40_half1.txt', eval=False, dataset_type='modelnet', num_points=1024, mag=0.8, fine_tune_pointnet='tune', transfer_ptnet_weights='./pretrained/results_prev_part1/ex1_classifier_0915_feat_best.pth', emb_dims=1024, symfn='max', max_iter=10, delta=0.01, learn_delta=False, seed=1234, workers=4, batch_size=16, test_batch_size=8, epochs=200, start_epoch=0, optimizer='Adam', resume='', pretrained='', device='cuda:0')\n",
            "/usr/local/lib/python3.10/dist-packages/torch/utils/data/dataloader.py:617: UserWarning: This DataLoader will create 4 worker processes in total. Our suggested max number of worker in current system is 2, which is smaller than what this DataLoader is going to create. Please be aware that excessive worker creation might get DataLoader running slow or even freeze, lower the worker number to avoid potential slowness/freeze if necessary.\n",
            "  warnings.warn(\n",
            "PointLK(\n",
            "  (ptnet): PointNet_features(\n",
            "    (h1): Sequential(\n",
            "      (0): Conv1d(3, 64, kernel_size=(1,), stride=(1,))\n",
            "      (1): BatchNorm1d(64, eps=1e-05, momentum=0.1, affine=True, track_running_stats=True)\n",
            "      (2): ReLU()\n",
            "      (3): Conv1d(64, 64, kernel_size=(1,), stride=(1,))\n",
            "      (4): BatchNorm1d(64, eps=1e-05, momentum=0.1, affine=True, track_running_stats=True)\n",
            "      (5): ReLU()\n",
            "    )\n",
            "    (h2): Sequential(\n",
            "      (0): Conv1d(64, 64, kernel_size=(1,), stride=(1,))\n",
            "      (1): BatchNorm1d(64, eps=1e-05, momentum=0.1, affine=True, track_running_stats=True)\n",
            "      (2): ReLU()\n",
            "      (3): Conv1d(64, 128, kernel_size=(1,), stride=(1,))\n",
            "      (4): BatchNorm1d(128, eps=1e-05, momentum=0.1, affine=True, track_running_stats=True)\n",
            "      (5): ReLU()\n",
            "      (6): Conv1d(128, 1024, kernel_size=(1,), stride=(1,))\n",
            "      (7): BatchNorm1d(1024, eps=1e-05, momentum=0.1, affine=True, track_running_stats=True)\n",
            "      (8): ReLU()\n",
            "    )\n",
            "  )\n",
            ")\n",
            "  0% 0/319 [00:00<?, ?it/s]/usr/local/lib/python3.10/dist-packages/torch/nn/_reduction.py:51: UserWarning: size_average and reduce args will be deprecated, please use reduction='mean' instead.\n",
            "  warnings.warn(warning.format(ret))\n",
            "/usr/local/lib/python3.10/dist-packages/torch/nn/_reduction.py:51: UserWarning: size_average and reduce args will be deprecated, please use reduction='sum' instead.\n",
            "  warnings.warn(warning.format(ret))\n",
            " 28% 90/319 [03:14<08:14,  2.16s/it]\n",
            "Traceback (most recent call last):\n",
            "  File \"/content/PointNetLK/main.py\", line 260, in <module>\n",
            "    main()\n",
            "  File \"/content/PointNetLK/main.py\", line 255, in main\n",
            "    train(args, model, train_loader, test_loader, boardio, textio, checkpoint)\n",
            "  File \"/content/PointNetLK/main.py\", line 123, in train\n",
            "    train_loss = train_one_epoch(args.device, model, train_loader, optimizer)\n",
            "  File \"/content/PointNetLK/main.py\", line 85, in train_one_epoch\n",
            "    result = model(template, source)\n",
            "  File \"/usr/local/lib/python3.10/dist-packages/torch/nn/modules/module.py\", line 1736, in _wrapped_call_impl\n",
            "    return self._call_impl(*args, **kwargs)\n",
            "  File \"/usr/local/lib/python3.10/dist-packages/torch/nn/modules/module.py\", line 1747, in _call_impl\n",
            "    return forward_call(*args, **kwargs)\n",
            "  File \"/content/PointNetLK/model.py\", line 98, in forward\n",
            "    result = self.iclk(template, source, maxiter)\n",
            "  File \"/content/PointNetLK/model.py\", line 139, in iclk\n",
            "    est_T = self.update(est_T, pose)\n",
            "  File \"/content/PointNetLK/model.py\", line 160, in update\n",
            "    dg = self.exp(dx)\n",
            "  File \"/usr/local/lib/python3.10/dist-packages/torch/autograd/function.py\", line 575, in apply\n",
            "    return super().apply(*args, **kwargs)  # type: ignore[misc]\n",
            "  File \"/content/PointNetLK/utils/se3.py\", line 130, in forward\n",
            "    g = exp(x)\n",
            "  File \"/content/PointNetLK/utils/se3.py\", line 62, in exp\n",
            "    R = I + sinc1(t)*W + sinc2(t)*S\n",
            "  File \"/content/PointNetLK/utils/sinc.py\", line 13, in sinc1\n",
            "    t2 = t[s] ** 2\n",
            "  File \"/usr/local/lib/python3.10/dist-packages/torch/_tensor.py\", line 37, in wrapped\n",
            "    if has_torch_function(args):\n",
            "KeyboardInterrupt\n"
          ]
        }
      ]
    }
  ]
}